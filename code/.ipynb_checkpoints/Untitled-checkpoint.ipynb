{
 "cells": [
  {
   "cell_type": "code",
   "execution_count": 16,
   "metadata": {
    "collapsed": false
   },
   "outputs": [],
   "source": [
    "from skimage import morphology\n",
    "from skimage import measure\n",
    "from sklearn.cluster import KMeans\n",
    "from skimage.transform import resize\n",
    "from skimage.exposure import equalize_hist\n",
    "# import np_image\n",
    "import SimpleITK as sitk\n",
    "import numpy as np\n",
    "import csv\n",
    "from glob import glob\n",
    "import pandas as pd\n",
    "import matplotlib.pyplot as plt\n",
    "\n",
    "file_list = glob(\"../../subset0/\" + \"*.mhd\")\n",
    "    "
   ]
  },
  {
   "cell_type": "code",
   "execution_count": 44,
   "metadata": {
    "collapsed": false
   },
   "outputs": [
    {
     "data": {
      "image/png": "[encoded data removed]",
      "text/plain": [
       "<matplotlib.figure.Figure at 0x7f6b85f89e48>"
      ]
     },
     "metadata": {},
     "output_type": "display_data"
    }
   ],
   "source": [
    "for img_file in file_list[0:1]:\n",
    "    itk_img=sitk.ReadImage(img_file)\n",
    "    img_array=sitk.GetArrayFromImage(itk_img)\n",
    "    imgs_to_process=img_array.astype(np.float64)\n",
    "    for i in range(0,1):\n",
    "        img=imgs_to_process[150]\n",
    "#         plt.subplot(3,2,1)\n",
    "#         plt.title(\"Original Image\")\n",
    "#         plt.imshow(img,cmap=\"gray\")\n",
    "#         plt.show()\n",
    "        range1=np.max(img)-np.min(img)\n",
    "        img=img-np.min(img)\n",
    "        img=img/range1\n",
    "#         plt.subplot(3,2,2)\n",
    "#         plt.title(\"Normalised image\")\n",
    "#         plt.imshow(img,cmap=\"gray\")\n",
    "#         plt.show()\n",
    "#         print(np.min(img)) #0\n",
    "#         print(np.max(img)) #1\n",
    "#         print(img[0])\n",
    "        plt.hist(img.flatten(),100)\n",
    "        plt.title(\"original Image\")\n",
    "        plt.show()"
   ]
  },
  {
   "cell_type": "code",
   "execution_count": null,
   "metadata": {
    "collapsed": true
   },
   "outputs": [],
   "source": []
  },
  {
   "cell_type": "code",
   "execution_count": null,
   "metadata": {
    "collapsed": true
   },
   "outputs": [],
   "source": []
  },
  {
   "cell_type": "code",
   "execution_count": null,
   "metadata": {
    "collapsed": true
   },
   "outputs": [],
   "source": []
  },
  {
   "cell_type": "code",
   "execution_count": null,
   "metadata": {
    "collapsed": true
   },
   "outputs": [],
   "source": []
  }
 ],
 "metadata": {
  "kernelspec": {
   "display_name": "Python 3",
   "language": "python",
   "name": "python3"
  },
  "language_info": {
   "codemirror_mode": {
    "name": "ipython",
    "version": 3
   },
   "file_extension": ".py",
   "mimetype": "text/x-python",
   "name": "python",
   "nbconvert_exporter": "python",
   "pygments_lexer": "ipython3",
   "version": "3.5.2"
  }
 },
 "nbformat": 4,
 "nbformat_minor": 2
}
